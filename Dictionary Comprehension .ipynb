{
 "cells": [
  {
   "cell_type": "code",
   "execution_count": 13,
   "metadata": {},
   "outputs": [],
   "source": [
    "from pandas_datareader import data, wb\n",
    "import pandas as pd\n",
    "import yfinance as yf\n",
    "yf.pdr_override()\n",
    "import datetime\n",
    "from datetime import datetime\n",
    "from datetime import date"
   ]
  },
  {
   "cell_type": "code",
   "execution_count": 50,
   "metadata": {},
   "outputs": [],
   "source": [
    "from string import ascii_letters\n",
    "import numpy as np\n",
    "import pandas as pd\n",
    "import seaborn as sns\n",
    "import matplotlib.pyplot as plt"
   ]
  },
  {
   "cell_type": "code",
   "execution_count": null,
   "metadata": {},
   "outputs": [],
   "source": []
  },
  {
   "cell_type": "code",
   "execution_count": null,
   "metadata": {},
   "outputs": [],
   "source": []
  },
  {
   "cell_type": "code",
   "execution_count": null,
   "metadata": {},
   "outputs": [],
   "source": []
  },
  {
   "cell_type": "code",
   "execution_count": 14,
   "metadata": {},
   "outputs": [],
   "source": [
    "start_date = '2005-01-01'\n",
    "end_date = date.today()"
   ]
  },
  {
   "cell_type": "code",
   "execution_count": 6,
   "metadata": {},
   "outputs": [],
   "source": [
    "tickersOfInterest = pd.read_csv('tickersofinterest.csv')\n",
    "tickerStr = []\n",
    "for number in range(0,len(tickersOfInterest)):\n",
    "    tickerStr.append(tickersOfInterest.iloc[number].values[0])"
   ]
  },
  {
   "cell_type": "code",
   "execution_count": 28,
   "metadata": {},
   "outputs": [
    {
     "name": "stdout",
     "output_type": "stream",
     "text": [
      "[*********************100%***********************]  1 of 1 completed\n",
      "[*********************100%***********************]  1 of 1 completed\n",
      "[*********************100%***********************]  1 of 1 completed\n",
      "[*********************100%***********************]  1 of 1 completed\n",
      "[*********************100%***********************]  1 of 1 completed\n",
      "[*********************100%***********************]  1 of 1 completed\n",
      "[*********************100%***********************]  1 of 1 completed\n",
      "[*********************100%***********************]  1 of 1 completed\n",
      "[*********************100%***********************]  1 of 1 completed\n",
      "[*********************100%***********************]  1 of 1 completed\n",
      "[*********************100%***********************]  1 of 1 completed\n",
      "[*********************100%***********************]  1 of 1 completed\n",
      "[*********************100%***********************]  1 of 1 completed\n",
      "[*********************100%***********************]  1 of 1 completed\n",
      "[*********************100%***********************]  1 of 1 completed\n",
      "[*********************100%***********************]  1 of 1 completed\n",
      "[*********************100%***********************]  1 of 1 completed\n",
      "[*********************100%***********************]  1 of 1 completed\n",
      "[*********************100%***********************]  1 of 1 completed\n",
      "[*********************100%***********************]  1 of 1 completed\n",
      "[*********************100%***********************]  1 of 1 completed\n",
      "[*********************100%***********************]  1 of 1 completed\n",
      "[*********************100%***********************]  1 of 1 completed\n"
     ]
    }
   ],
   "source": [
    "stock_data = {}\n",
    "for i in range(len(tickerStr)):\n",
    "    case = {tickerStr[i]:data.get_data_yahoo(tickerStr[i], start_date, end_date)}\n",
    "    stock_data.update(case)"
   ]
  },
  {
   "cell_type": "code",
   "execution_count": 121,
   "metadata": {},
   "outputs": [],
   "source": [
    "stock_data_returns = {}\n",
    "for i in range(len(stock_data.keys())):\n",
    "    case = {tickerStr[i]: stock_data[tickerStr[i]].pct_change()}\n",
    "    stock_data_returns.update(case)"
   ]
  },
  {
   "cell_type": "code",
   "execution_count": 122,
   "metadata": {},
   "outputs": [
    {
     "data": {
      "text/html": [
       "<div>\n",
       "<style scoped>\n",
       "    .dataframe tbody tr th:only-of-type {\n",
       "        vertical-align: middle;\n",
       "    }\n",
       "\n",
       "    .dataframe tbody tr th {\n",
       "        vertical-align: top;\n",
       "    }\n",
       "\n",
       "    .dataframe thead th {\n",
       "        text-align: right;\n",
       "    }\n",
       "</style>\n",
       "<table border=\"1\" class=\"dataframe\">\n",
       "  <thead>\n",
       "    <tr style=\"text-align: right;\">\n",
       "      <th></th>\n",
       "      <th>Open</th>\n",
       "      <th>High</th>\n",
       "      <th>Low</th>\n",
       "      <th>Close</th>\n",
       "      <th>Adj Close</th>\n",
       "      <th>Volume</th>\n",
       "    </tr>\n",
       "    <tr>\n",
       "      <th>Date</th>\n",
       "      <th></th>\n",
       "      <th></th>\n",
       "      <th></th>\n",
       "      <th></th>\n",
       "      <th></th>\n",
       "      <th></th>\n",
       "    </tr>\n",
       "  </thead>\n",
       "  <tbody>\n",
       "    <tr>\n",
       "      <th>2004-12-31</th>\n",
       "      <td>NaN</td>\n",
       "      <td>NaN</td>\n",
       "      <td>NaN</td>\n",
       "      <td>NaN</td>\n",
       "      <td>NaN</td>\n",
       "      <td>NaN</td>\n",
       "    </tr>\n",
       "    <tr>\n",
       "      <th>2005-01-03</th>\n",
       "      <td>0.010665</td>\n",
       "      <td>0.004351</td>\n",
       "      <td>-0.012594</td>\n",
       "      <td>-0.011935</td>\n",
       "      <td>-0.011935</td>\n",
       "      <td>2.337492</td>\n",
       "    </tr>\n",
       "    <tr>\n",
       "      <th>2005-01-04</th>\n",
       "      <td>-0.026071</td>\n",
       "      <td>-0.025990</td>\n",
       "      <td>-0.036990</td>\n",
       "      <td>-0.033058</td>\n",
       "      <td>-0.033058</td>\n",
       "      <td>0.267246</td>\n",
       "    </tr>\n",
       "    <tr>\n",
       "      <th>2005-01-05</th>\n",
       "      <td>-0.036329</td>\n",
       "      <td>-0.035578</td>\n",
       "      <td>-0.010596</td>\n",
       "      <td>-0.014464</td>\n",
       "      <td>-0.014464</td>\n",
       "      <td>0.104064</td>\n",
       "    </tr>\n",
       "    <tr>\n",
       "      <th>2005-01-06</th>\n",
       "      <td>-0.015873</td>\n",
       "      <td>-0.015151</td>\n",
       "      <td>-0.015395</td>\n",
       "      <td>-0.016011</td>\n",
       "      <td>-0.016011</td>\n",
       "      <td>-0.050812</td>\n",
       "    </tr>\n",
       "    <tr>\n",
       "      <th>...</th>\n",
       "      <td>...</td>\n",
       "      <td>...</td>\n",
       "      <td>...</td>\n",
       "      <td>...</td>\n",
       "      <td>...</td>\n",
       "      <td>...</td>\n",
       "    </tr>\n",
       "    <tr>\n",
       "      <th>2020-06-09</th>\n",
       "      <td>-0.012394</td>\n",
       "      <td>0.004466</td>\n",
       "      <td>0.006033</td>\n",
       "      <td>0.000229</td>\n",
       "      <td>0.000229</td>\n",
       "      <td>-0.264051</td>\n",
       "    </tr>\n",
       "    <tr>\n",
       "      <th>2020-06-10</th>\n",
       "      <td>0.012665</td>\n",
       "      <td>0.000793</td>\n",
       "      <td>0.007330</td>\n",
       "      <td>-0.004036</td>\n",
       "      <td>-0.004036</td>\n",
       "      <td>0.353635</td>\n",
       "    </tr>\n",
       "    <tr>\n",
       "      <th>2020-06-11</th>\n",
       "      <td>-0.026808</td>\n",
       "      <td>-0.024334</td>\n",
       "      <td>-0.042881</td>\n",
       "      <td>-0.043200</td>\n",
       "      <td>-0.043200</td>\n",
       "      <td>-0.078765</td>\n",
       "    </tr>\n",
       "    <tr>\n",
       "      <th>2020-06-12</th>\n",
       "      <td>0.013642</td>\n",
       "      <td>0.007105</td>\n",
       "      <td>0.013371</td>\n",
       "      <td>0.030581</td>\n",
       "      <td>0.030581</td>\n",
       "      <td>-0.080822</td>\n",
       "    </tr>\n",
       "    <tr>\n",
       "      <th>2020-06-15</th>\n",
       "      <td>-0.025270</td>\n",
       "      <td>0.007890</td>\n",
       "      <td>-0.001838</td>\n",
       "      <td>0.020229</td>\n",
       "      <td>0.020229</td>\n",
       "      <td>-0.292071</td>\n",
       "    </tr>\n",
       "  </tbody>\n",
       "</table>\n",
       "<p>3890 rows × 6 columns</p>\n",
       "</div>"
      ],
      "text/plain": [
       "                Open      High       Low     Close  Adj Close    Volume\n",
       "Date                                                                   \n",
       "2004-12-31       NaN       NaN       NaN       NaN        NaN       NaN\n",
       "2005-01-03  0.010665  0.004351 -0.012594 -0.011935  -0.011935  2.337492\n",
       "2005-01-04 -0.026071 -0.025990 -0.036990 -0.033058  -0.033058  0.267246\n",
       "2005-01-05 -0.036329 -0.035578 -0.010596 -0.014464  -0.014464  0.104064\n",
       "2005-01-06 -0.015873 -0.015151 -0.015395 -0.016011  -0.016011 -0.050812\n",
       "...              ...       ...       ...       ...        ...       ...\n",
       "2020-06-09 -0.012394  0.004466  0.006033  0.000229   0.000229 -0.264051\n",
       "2020-06-10  0.012665  0.000793  0.007330 -0.004036  -0.004036  0.353635\n",
       "2020-06-11 -0.026808 -0.024334 -0.042881 -0.043200  -0.043200 -0.078765\n",
       "2020-06-12  0.013642  0.007105  0.013371  0.030581   0.030581 -0.080822\n",
       "2020-06-15 -0.025270  0.007890 -0.001838  0.020229   0.020229 -0.292071\n",
       "\n",
       "[3890 rows x 6 columns]"
      ]
     },
     "execution_count": 122,
     "metadata": {},
     "output_type": "execute_result"
    }
   ],
   "source": [
    "stock_data_returns['ASML']"
   ]
  },
  {
   "cell_type": "code",
   "execution_count": null,
   "metadata": {},
   "outputs": [],
   "source": []
  },
  {
   "cell_type": "code",
   "execution_count": null,
   "metadata": {},
   "outputs": [],
   "source": []
  },
  {
   "cell_type": "code",
   "execution_count": null,
   "metadata": {},
   "outputs": [],
   "source": []
  },
  {
   "cell_type": "code",
   "execution_count": null,
   "metadata": {},
   "outputs": [],
   "source": []
  },
  {
   "cell_type": "code",
   "execution_count": null,
   "metadata": {},
   "outputs": [],
   "source": []
  },
  {
   "cell_type": "code",
   "execution_count": null,
   "metadata": {},
   "outputs": [],
   "source": []
  },
  {
   "cell_type": "code",
   "execution_count": null,
   "metadata": {},
   "outputs": [],
   "source": []
  },
  {
   "cell_type": "code",
   "execution_count": null,
   "metadata": {},
   "outputs": [],
   "source": []
  },
  {
   "cell_type": "code",
   "execution_count": null,
   "metadata": {},
   "outputs": [],
   "source": []
  },
  {
   "cell_type": "code",
   "execution_count": null,
   "metadata": {},
   "outputs": [],
   "source": []
  },
  {
   "cell_type": "code",
   "execution_count": null,
   "metadata": {},
   "outputs": [],
   "source": []
  }
 ],
 "metadata": {
  "kernelspec": {
   "display_name": "Python 3",
   "language": "python",
   "name": "python3"
  },
  "language_info": {
   "codemirror_mode": {
    "name": "ipython",
    "version": 3
   },
   "file_extension": ".py",
   "mimetype": "text/x-python",
   "name": "python",
   "nbconvert_exporter": "python",
   "pygments_lexer": "ipython3",
   "version": "3.7.6"
  }
 },
 "nbformat": 4,
 "nbformat_minor": 4
}
